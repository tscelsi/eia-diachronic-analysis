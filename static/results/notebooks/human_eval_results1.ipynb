{
 "cells": [
  {
   "cell_type": "code",
   "execution_count": 80,
   "metadata": {
    "ExecuteTime": {
     "end_time": "2021-09-20T00:17:18.487325Z",
     "start_time": "2021-09-20T00:17:17.815472Z"
    }
   },
   "outputs": [],
   "source": [
    "import pandas as pd\n",
    "import seaborn as sns\n",
    "import matplotlib.pyplot as plt\n",
    "import numpy as np\n",
    "import os\n",
    "root_dir = \"../../static/human_evaluation/\"\n",
    "\n",
    "result_files = [x for x in os.listdir(root_dir) if x.endswith(\"_questionnaire.csv\")]\n",
    "dfs = [pd.read_csv(f, index_col=0) for f in result_files]\n",
    "\n",
    "result_files2 = [x for x in os.listdir(root_dir) if x.endswith(\"_questionnaire2.csv\")]\n",
    "dfs2 = [pd.read_csv(f, index_col=0) for f in result_files2]\n"
   ]
  },
  {
   "cell_type": "code",
   "execution_count": 81,
   "metadata": {
    "ExecuteTime": {
     "end_time": "2021-09-19T04:04:11.357918Z",
     "start_time": "2021-09-19T04:04:11.349830Z"
    }
   },
   "outputs": [],
   "source": [
    "df = pd.concat(dfs)\n",
    "df2= pd.concat(dfs2)\n",
    "\n",
    "df = df.replace(['greyroads_aeo_min_freq_40_1997_2020_ngram', \n",
    "                 'greyroads_ieo_min_freq_40_1997_2020_ngram',\n",
    "                 'journal_energy_policy_applied_energy_1997_2020_abstract_all_ngram_min_freq_150'],\n",
    "               ['AEO', 'IEO', 'Journals'])\n",
    "\n",
    "df2 = df2.replace(['greyroads_aeo_min_freq_40_1997_2020_ngram', \n",
    "                 'greyroads_ieo_min_freq_40_1997_2020_ngram',\n",
    "                 'journal_energy_policy_applied_energy_1997_2020_abstract_all_ngram_min_freq_150'],\n",
    "               ['AEO', 'IEO', 'Journals'])\n",
    "\n",
    "\n",
    "df = df.replace(['emb', 'tfidf', 'baseline'],\n",
    "                ['Embedding', 'TFIDF', 'Baseline'])\n",
    "\n",
    "df2 = df2.replace(['emb', 'tfidf', 'baseline'],\n",
    "                ['Embedding', 'TFIDF', 'Baseline'])"
   ]
  },
  {
   "cell_type": "code",
   "execution_count": 82,
   "metadata": {
    "ExecuteTime": {
     "end_time": "2021-09-19T04:04:12.110185Z",
     "start_time": "2021-09-19T04:04:12.100738Z"
    }
   },
   "outputs": [
    {
     "data": {
      "text/plain": [
       "human_choice\n",
       "Baseline      32\n",
       "Embedding    205\n",
       "TFIDF        228\n",
       "Name: multi_choice, dtype: int64"
      ]
     },
     "execution_count": 82,
     "metadata": {},
     "output_type": "execute_result"
    }
   ],
   "source": [
    "df.groupby('human_choice').count()['multi_choice']"
   ]
  },
  {
   "cell_type": "code",
   "execution_count": 83,
   "metadata": {},
   "outputs": [
    {
     "data": {
      "text/plain": [
       "human_choice\n",
       "Baseline      5\n",
       "Embedding    90\n",
       "TFIDF        85\n",
       "Name: multi_choice, dtype: int64"
      ]
     },
     "execution_count": 83,
     "metadata": {},
     "output_type": "execute_result"
    }
   ],
   "source": [
    "df2.groupby('human_choice').count()['multi_choice']"
   ]
  },
  {
   "cell_type": "code",
   "execution_count": 84,
   "metadata": {
    "ExecuteTime": {
     "end_time": "2021-09-19T04:04:14.842721Z",
     "start_time": "2021-09-19T04:04:14.835605Z"
    }
   },
   "outputs": [
    {
     "data": {
      "text/plain": [
       "dataset\n",
       "AEO         157\n",
       "IEO         163\n",
       "Journals    145\n",
       "Name: multi_choice, dtype: int64"
      ]
     },
     "execution_count": 84,
     "metadata": {},
     "output_type": "execute_result"
    }
   ],
   "source": [
    "df.groupby('dataset').count()['multi_choice']"
   ]
  },
  {
   "cell_type": "code",
   "execution_count": 85,
   "metadata": {},
   "outputs": [
    {
     "data": {
      "text/plain": [
       "dataset\n",
       "AEO         58\n",
       "IEO         68\n",
       "Journals    54\n",
       "Name: multi_choice, dtype: int64"
      ]
     },
     "execution_count": 85,
     "metadata": {},
     "output_type": "execute_result"
    }
   ],
   "source": [
    "df2.groupby('dataset').count()['multi_choice']"
   ]
  },
  {
   "cell_type": "code",
   "execution_count": 86,
   "metadata": {
    "ExecuteTime": {
     "end_time": "2021-09-19T04:04:17.862930Z",
     "start_time": "2021-09-19T04:04:17.855837Z"
    }
   },
   "outputs": [],
   "source": [
    "plot_df = df.groupby(['human_choice', 'dataset']).count()\n",
    "plot_df.reset_index(inplace=True)\n",
    "\n",
    "plot_df2 = df2.groupby(['human_choice', 'dataset']).count()\n",
    "plot_df2.reset_index(inplace=True)"
   ]
  },
  {
   "cell_type": "code",
   "execution_count": 87,
   "metadata": {
    "ExecuteTime": {
     "end_time": "2021-09-19T04:04:18.171581Z",
     "start_time": "2021-09-19T04:04:18.166524Z"
    }
   },
   "outputs": [],
   "source": [
    "plot_df = plot_df.loc[:, ['human_choice', 'dataset', 'tfidf']]\n",
    "plot_df = plot_df.rename(columns={\"tfidf\": \"count\"})\n",
    "\n",
    "plot_df2 = plot_df2.loc[:, ['human_choice', 'dataset', 'tfidf']]\n",
    "plot_df2 = plot_df2.rename(columns={\"tfidf\": \"count\"})"
   ]
  },
  {
   "cell_type": "code",
   "execution_count": 88,
   "metadata": {},
   "outputs": [],
   "source": [
    "total = plot_df['count'].sum()\n",
    "plot_df['count'] = plot_df['count'].apply(lambda x: x/total)\n",
    "\n",
    "total2 = plot_df2['count'].sum()\n",
    "plot_df2['count'] = plot_df2['count'].apply(lambda x: x/total2)"
   ]
  },
  {
   "cell_type": "code",
   "execution_count": 90,
   "metadata": {},
   "outputs": [
    {
     "data": {
      "text/html": [
       "<div>\n",
       "<style scoped>\n",
       "    .dataframe tbody tr th:only-of-type {\n",
       "        vertical-align: middle;\n",
       "    }\n",
       "\n",
       "    .dataframe tbody tr th {\n",
       "        vertical-align: top;\n",
       "    }\n",
       "\n",
       "    .dataframe thead th {\n",
       "        text-align: right;\n",
       "    }\n",
       "</style>\n",
       "<table border=\"1\" class=\"dataframe\">\n",
       "  <thead>\n",
       "    <tr style=\"text-align: right;\">\n",
       "      <th></th>\n",
       "      <th>human_choice</th>\n",
       "      <th>dataset</th>\n",
       "      <th>count</th>\n",
       "    </tr>\n",
       "  </thead>\n",
       "  <tbody>\n",
       "    <tr>\n",
       "      <th>0</th>\n",
       "      <td>Baseline</td>\n",
       "      <td>AEO</td>\n",
       "      <td>0.011111</td>\n",
       "    </tr>\n",
       "    <tr>\n",
       "      <th>1</th>\n",
       "      <td>Baseline</td>\n",
       "      <td>IEO</td>\n",
       "      <td>0.011111</td>\n",
       "    </tr>\n",
       "    <tr>\n",
       "      <th>2</th>\n",
       "      <td>Baseline</td>\n",
       "      <td>Journals</td>\n",
       "      <td>0.005556</td>\n",
       "    </tr>\n",
       "    <tr>\n",
       "      <th>3</th>\n",
       "      <td>Embedding</td>\n",
       "      <td>AEO</td>\n",
       "      <td>0.144444</td>\n",
       "    </tr>\n",
       "    <tr>\n",
       "      <th>4</th>\n",
       "      <td>Embedding</td>\n",
       "      <td>IEO</td>\n",
       "      <td>0.211111</td>\n",
       "    </tr>\n",
       "    <tr>\n",
       "      <th>5</th>\n",
       "      <td>Embedding</td>\n",
       "      <td>Journals</td>\n",
       "      <td>0.144444</td>\n",
       "    </tr>\n",
       "    <tr>\n",
       "      <th>6</th>\n",
       "      <td>TFIDF</td>\n",
       "      <td>AEO</td>\n",
       "      <td>0.166667</td>\n",
       "    </tr>\n",
       "    <tr>\n",
       "      <th>7</th>\n",
       "      <td>TFIDF</td>\n",
       "      <td>IEO</td>\n",
       "      <td>0.155556</td>\n",
       "    </tr>\n",
       "    <tr>\n",
       "      <th>8</th>\n",
       "      <td>TFIDF</td>\n",
       "      <td>Journals</td>\n",
       "      <td>0.150000</td>\n",
       "    </tr>\n",
       "  </tbody>\n",
       "</table>\n",
       "</div>"
      ],
      "text/plain": [
       "  human_choice   dataset     count\n",
       "0     Baseline       AEO  0.011111\n",
       "1     Baseline       IEO  0.011111\n",
       "2     Baseline  Journals  0.005556\n",
       "3    Embedding       AEO  0.144444\n",
       "4    Embedding       IEO  0.211111\n",
       "5    Embedding  Journals  0.144444\n",
       "6        TFIDF       AEO  0.166667\n",
       "7        TFIDF       IEO  0.155556\n",
       "8        TFIDF  Journals  0.150000"
      ]
     },
     "execution_count": 90,
     "metadata": {},
     "output_type": "execute_result"
    }
   ],
   "source": [
    "plot_df2"
   ]
  },
  {
   "cell_type": "code",
   "execution_count": 91,
   "metadata": {
    "ExecuteTime": {
     "end_time": "2021-09-19T04:04:18.736358Z",
     "start_time": "2021-09-19T04:04:18.518468Z"
    }
   },
   "outputs": [
    {
     "data": {
      "image/png": "[encoded data removed]",
      "text/plain": [
       "<Figure size 1008x504 with 1 Axes>"
      ]
     },
     "metadata": {
      "needs_background": "light"
     },
     "output_type": "display_data"
    }
   ],
   "source": [
    "fontsize=20\n",
    "\n",
    "fig = plt.figure(figsize=(14,7))\n",
    "sns.barplot(data=plot_df, \n",
    "            palette=\"colorblind\", \n",
    "            x=\"human_choice\", y=\"count\", hue=\"dataset\").set(xlabel=None)\n",
    "plt.legend(loc='upper left', prop={'size': fontsize})\n",
    "plt.ylabel('Percent selected as preferred label', fontsize=fontsize)\n",
    "plt.xticks(fontsize=fontsize)\n",
    "plt.yticks(fontsize=fontsize)\n",
    "plt.savefig(\"./annotation.png\",dpi=300, bbox_inches = \"tight\")"
   ]
  },
  {
   "cell_type": "code",
   "execution_count": 173,
   "metadata": {},
   "outputs": [
    {
     "data": {
      "image/png": "[encoded data removed]",
      "text/plain": [
       "<Figure size 792x288 with 2 Axes>"
      ]
     },
     "metadata": {
      "needs_background": "light"
     },
     "output_type": "display_data"
    }
   ],
   "source": [
    "fontsize=20\n",
    "plt.rcParams['font.size'] = '18'\n",
    "\n",
    "fig, axes = plt.subplots(1, 2, figsize=(11, 4), sharey=True, squeeze=False)\n",
    "# plt.xticks(fontsize=fontsize)\n",
    "# plt.yticks(fontsize=fontsize)\n",
    "\n",
    "\n",
    "sns.barplot(ax=axes[0][0], data=plot_df, \n",
    "            palette=\"colorblind\", \n",
    "            x=\"human_choice\", y=\"count\", hue=\"dataset\").set(xlabel=None, ylabel=None)\n",
    "\n",
    "sns.barplot(ax=axes[0][1], data=plot_df2, \n",
    "            palette=\"colorblind\", \n",
    "            x=\"human_choice\", y=\"count\", hue=\"dataset\").set(xlabel=None, ylabel=None)\n",
    "\n",
    "axes[0][1].get_legend().remove()\n",
    "# axes[0][0].legend(ncol=3)\n",
    "# plt.legend(loc='upper center', bbox_to_anchor=(0., 1.05), ncol=3)\n",
    "\n",
    "\n",
    "plt.tight_layout()\n",
    "plt.savefig(\"./annotation.png\",dpi=300, bbox_inches = \"tight\")"
   ]
  },
  {
   "cell_type": "code",
   "execution_count": 13,
   "metadata": {
    "ExecuteTime": {
     "end_time": "2021-09-17T04:39:48.049229Z",
     "start_time": "2021-09-17T04:39:48.029537Z"
    }
   },
   "outputs": [],
   "source": [
    "question_df = pd.read_pickle(\"./static/data/mturk_final_reduced.pickle\")\n",
    "# we ensure that 9 of the questions are the same between any questionnaires\n",
    "df_by_weight = question_df.sort_values(by=[\"dataset\", \"weights\"], ascending=False)\n",
    "index_set = []\n",
    "aeo = df_by_weight.loc[df_by_weight['dataset']==\"greyroads_aeo_min_freq_40_1997_2020_ngram\"].head(3)\n",
    "ieo = df_by_weight.loc[df_by_weight['dataset']==\"greyroads_ieo_min_freq_40_1997_2020_ngram\"].head(3)\n",
    "journals = df_by_weight.loc[df_by_weight['dataset']==\"journal_energy_policy_applied_energy_1997_2020_abstract_all_ngram_min_freq_150\"].head(3)"
   ]
  },
  {
   "cell_type": "code",
   "execution_count": 14,
   "metadata": {
    "ExecuteTime": {
     "end_time": "2021-09-17T04:39:49.178675Z",
     "start_time": "2021-09-17T04:39:49.174990Z"
    }
   },
   "outputs": [],
   "source": [
    "inds = aeo.index.tolist() + journals.index.tolist() + ieo.index.tolist()"
   ]
  },
  {
   "cell_type": "code",
   "execution_count": 15,
   "metadata": {
    "ExecuteTime": {
     "end_time": "2021-09-17T04:39:49.922572Z",
     "start_time": "2021-09-17T04:39:49.899377Z"
    }
   },
   "outputs": [
    {
     "data": {
      "text/html": [
       "<div>\n",
       "<style scoped>\n",
       "    .dataframe tbody tr th:only-of-type {\n",
       "        vertical-align: middle;\n",
       "    }\n",
       "\n",
       "    .dataframe tbody tr th {\n",
       "        vertical-align: top;\n",
       "    }\n",
       "\n",
       "    .dataframe thead th {\n",
       "        text-align: right;\n",
       "    }\n",
       "</style>\n",
       "<table border=\"1\" class=\"dataframe\">\n",
       "  <thead>\n",
       "    <tr style=\"text-align: right;\">\n",
       "      <th></th>\n",
       "      <th></th>\n",
       "      <th>top_words</th>\n",
       "      <th>tfidf</th>\n",
       "      <th>embedding</th>\n",
       "      <th>dataset</th>\n",
       "      <th>model</th>\n",
       "      <th>weights</th>\n",
       "      <th>multi_choice</th>\n",
       "    </tr>\n",
       "    <tr>\n",
       "      <th>index</th>\n",
       "      <th>human_choice</th>\n",
       "      <th></th>\n",
       "      <th></th>\n",
       "      <th></th>\n",
       "      <th></th>\n",
       "      <th></th>\n",
       "      <th></th>\n",
       "      <th></th>\n",
       "    </tr>\n",
       "  </thead>\n",
       "  <tbody>\n",
       "    <tr>\n",
       "      <th>30</th>\n",
       "      <th>tfidf</th>\n",
       "      <td>6</td>\n",
       "      <td>6</td>\n",
       "      <td>6</td>\n",
       "      <td>6</td>\n",
       "      <td>6</td>\n",
       "      <td>6</td>\n",
       "      <td>6</td>\n",
       "    </tr>\n",
       "    <tr>\n",
       "      <th rowspan=\"3\" valign=\"top\">46</th>\n",
       "      <th>baseline</th>\n",
       "      <td>1</td>\n",
       "      <td>1</td>\n",
       "      <td>1</td>\n",
       "      <td>1</td>\n",
       "      <td>1</td>\n",
       "      <td>1</td>\n",
       "      <td>1</td>\n",
       "    </tr>\n",
       "    <tr>\n",
       "      <th>emb</th>\n",
       "      <td>4</td>\n",
       "      <td>4</td>\n",
       "      <td>4</td>\n",
       "      <td>4</td>\n",
       "      <td>4</td>\n",
       "      <td>4</td>\n",
       "      <td>4</td>\n",
       "    </tr>\n",
       "    <tr>\n",
       "      <th>tfidf</th>\n",
       "      <td>2</td>\n",
       "      <td>2</td>\n",
       "      <td>2</td>\n",
       "      <td>2</td>\n",
       "      <td>2</td>\n",
       "      <td>2</td>\n",
       "      <td>2</td>\n",
       "    </tr>\n",
       "    <tr>\n",
       "      <th rowspan=\"3\" valign=\"top\">54</th>\n",
       "      <th>baseline</th>\n",
       "      <td>1</td>\n",
       "      <td>1</td>\n",
       "      <td>1</td>\n",
       "      <td>1</td>\n",
       "      <td>1</td>\n",
       "      <td>1</td>\n",
       "      <td>1</td>\n",
       "    </tr>\n",
       "    <tr>\n",
       "      <th>emb</th>\n",
       "      <td>2</td>\n",
       "      <td>2</td>\n",
       "      <td>2</td>\n",
       "      <td>2</td>\n",
       "      <td>2</td>\n",
       "      <td>2</td>\n",
       "      <td>2</td>\n",
       "    </tr>\n",
       "    <tr>\n",
       "      <th>tfidf</th>\n",
       "      <td>6</td>\n",
       "      <td>6</td>\n",
       "      <td>6</td>\n",
       "      <td>6</td>\n",
       "      <td>6</td>\n",
       "      <td>6</td>\n",
       "      <td>6</td>\n",
       "    </tr>\n",
       "    <tr>\n",
       "      <th rowspan=\"2\" valign=\"top\">20</th>\n",
       "      <th>emb</th>\n",
       "      <td>1</td>\n",
       "      <td>1</td>\n",
       "      <td>1</td>\n",
       "      <td>1</td>\n",
       "      <td>1</td>\n",
       "      <td>1</td>\n",
       "      <td>1</td>\n",
       "    </tr>\n",
       "    <tr>\n",
       "      <th>tfidf</th>\n",
       "      <td>5</td>\n",
       "      <td>5</td>\n",
       "      <td>5</td>\n",
       "      <td>5</td>\n",
       "      <td>5</td>\n",
       "      <td>5</td>\n",
       "      <td>5</td>\n",
       "    </tr>\n",
       "    <tr>\n",
       "      <th rowspan=\"2\" valign=\"top\">7</th>\n",
       "      <th>emb</th>\n",
       "      <td>4</td>\n",
       "      <td>4</td>\n",
       "      <td>4</td>\n",
       "      <td>4</td>\n",
       "      <td>4</td>\n",
       "      <td>4</td>\n",
       "      <td>4</td>\n",
       "    </tr>\n",
       "    <tr>\n",
       "      <th>tfidf</th>\n",
       "      <td>1</td>\n",
       "      <td>1</td>\n",
       "      <td>1</td>\n",
       "      <td>1</td>\n",
       "      <td>1</td>\n",
       "      <td>1</td>\n",
       "      <td>1</td>\n",
       "    </tr>\n",
       "    <tr>\n",
       "      <th rowspan=\"2\" valign=\"top\">4</th>\n",
       "      <th>emb</th>\n",
       "      <td>4</td>\n",
       "      <td>4</td>\n",
       "      <td>4</td>\n",
       "      <td>4</td>\n",
       "      <td>4</td>\n",
       "      <td>4</td>\n",
       "      <td>4</td>\n",
       "    </tr>\n",
       "    <tr>\n",
       "      <th>tfidf</th>\n",
       "      <td>2</td>\n",
       "      <td>2</td>\n",
       "      <td>2</td>\n",
       "      <td>2</td>\n",
       "      <td>2</td>\n",
       "      <td>2</td>\n",
       "      <td>2</td>\n",
       "    </tr>\n",
       "    <tr>\n",
       "      <th rowspan=\"2\" valign=\"top\">76</th>\n",
       "      <th>emb</th>\n",
       "      <td>1</td>\n",
       "      <td>1</td>\n",
       "      <td>1</td>\n",
       "      <td>1</td>\n",
       "      <td>1</td>\n",
       "      <td>1</td>\n",
       "      <td>1</td>\n",
       "    </tr>\n",
       "    <tr>\n",
       "      <th>tfidf</th>\n",
       "      <td>4</td>\n",
       "      <td>4</td>\n",
       "      <td>4</td>\n",
       "      <td>4</td>\n",
       "      <td>4</td>\n",
       "      <td>4</td>\n",
       "      <td>4</td>\n",
       "    </tr>\n",
       "    <tr>\n",
       "      <th rowspan=\"2\" valign=\"top\">67</th>\n",
       "      <th>emb</th>\n",
       "      <td>3</td>\n",
       "      <td>3</td>\n",
       "      <td>3</td>\n",
       "      <td>3</td>\n",
       "      <td>3</td>\n",
       "      <td>3</td>\n",
       "      <td>3</td>\n",
       "    </tr>\n",
       "    <tr>\n",
       "      <th>tfidf</th>\n",
       "      <td>3</td>\n",
       "      <td>3</td>\n",
       "      <td>3</td>\n",
       "      <td>3</td>\n",
       "      <td>3</td>\n",
       "      <td>3</td>\n",
       "      <td>3</td>\n",
       "    </tr>\n",
       "    <tr>\n",
       "      <th rowspan=\"2\" valign=\"top\">87</th>\n",
       "      <th>emb</th>\n",
       "      <td>4</td>\n",
       "      <td>4</td>\n",
       "      <td>4</td>\n",
       "      <td>4</td>\n",
       "      <td>4</td>\n",
       "      <td>4</td>\n",
       "      <td>4</td>\n",
       "    </tr>\n",
       "    <tr>\n",
       "      <th>tfidf</th>\n",
       "      <td>2</td>\n",
       "      <td>2</td>\n",
       "      <td>2</td>\n",
       "      <td>2</td>\n",
       "      <td>2</td>\n",
       "      <td>2</td>\n",
       "      <td>2</td>\n",
       "    </tr>\n",
       "  </tbody>\n",
       "</table>\n",
       "</div>"
      ],
      "text/plain": [
       "                    top_words  tfidf  embedding  dataset  model  weights  \\\n",
       "index human_choice                                                         \n",
       "30    tfidf                 6      6          6        6      6        6   \n",
       "46    baseline              1      1          1        1      1        1   \n",
       "      emb                   4      4          4        4      4        4   \n",
       "      tfidf                 2      2          2        2      2        2   \n",
       "54    baseline              1      1          1        1      1        1   \n",
       "      emb                   2      2          2        2      2        2   \n",
       "      tfidf                 6      6          6        6      6        6   \n",
       "20    emb                   1      1          1        1      1        1   \n",
       "      tfidf                 5      5          5        5      5        5   \n",
       "7     emb                   4      4          4        4      4        4   \n",
       "      tfidf                 1      1          1        1      1        1   \n",
       "4     emb                   4      4          4        4      4        4   \n",
       "      tfidf                 2      2          2        2      2        2   \n",
       "76    emb                   1      1          1        1      1        1   \n",
       "      tfidf                 4      4          4        4      4        4   \n",
       "67    emb                   3      3          3        3      3        3   \n",
       "      tfidf                 3      3          3        3      3        3   \n",
       "87    emb                   4      4          4        4      4        4   \n",
       "      tfidf                 2      2          2        2      2        2   \n",
       "\n",
       "                    multi_choice  \n",
       "index human_choice                \n",
       "30    tfidf                    6  \n",
       "46    baseline                 1  \n",
       "      emb                      4  \n",
       "      tfidf                    2  \n",
       "54    baseline                 1  \n",
       "      emb                      2  \n",
       "      tfidf                    6  \n",
       "20    emb                      1  \n",
       "      tfidf                    5  \n",
       "7     emb                      4  \n",
       "      tfidf                    1  \n",
       "4     emb                      4  \n",
       "      tfidf                    2  \n",
       "76    emb                      1  \n",
       "      tfidf                    4  \n",
       "67    emb                      3  \n",
       "      tfidf                    3  \n",
       "87    emb                      4  \n",
       "      tfidf                    2  "
      ]
     },
     "execution_count": 15,
     "metadata": {},
     "output_type": "execute_result"
    }
   ],
   "source": [
    "df['index'] = df.index\n",
    "df.groupby(['index', 'human_choice']).count().loc[inds]"
   ]
  },
  {
   "cell_type": "code",
   "execution_count": 2,
   "metadata": {
    "ExecuteTime": {
     "end_time": "2021-09-17T02:34:13.741955Z",
     "start_time": "2021-09-17T02:34:13.736839Z"
    }
   },
   "outputs": [
    {
     "data": {
      "text/plain": [
       "['1631769641.7161226_questionnaire.csv',\n",
       " '1631682664.563143_questionnaire.csv',\n",
       " '1631701698.8368046_questionnaire.csv',\n",
       " '1631793468.9378352_questionnaire.csv',\n",
       " '1631693842.9728518_questionnaire.csv',\n",
       " '1631612079.9792643_questionnaire.csv',\n",
       " '1631792473.796265_questionnaire.csv',\n",
       " '1631693852.6951134_questionnaire.csv',\n",
       " '1631780452.9945455_questionnaire.csv',\n",
       " '1631691359.4098203_questionnaire.csv']"
      ]
     },
     "execution_count": 2,
     "metadata": {},
     "output_type": "execute_result"
    }
   ],
   "source": [
    "result_files"
   ]
  },
  {
   "cell_type": "code",
   "execution_count": 66,
   "metadata": {
    "ExecuteTime": {
     "end_time": "2021-09-20T02:48:04.117070Z",
     "start_time": "2021-09-20T02:48:04.111398Z"
    }
   },
   "outputs": [],
   "source": [
    "questionnaire = pd.read_pickle(\"./static/data/mturk_final_reduced_top1.pickle\")"
   ]
  },
  {
   "cell_type": "code",
   "execution_count": 67,
   "metadata": {
    "ExecuteTime": {
     "end_time": "2021-09-20T02:48:04.696139Z",
     "start_time": "2021-09-20T02:48:04.676862Z"
    },
    "scrolled": false
   },
   "outputs": [
    {
     "data": {
      "text/plain": [
       "0     [(0.2814950666697298, power), (0.2414588962377...\n",
       "1     [(0.3121060241322912, fuel), (0.12164852307639...\n",
       "2     [(0.32075350703622585, market), (0.23533495294...\n",
       "3     [(0.26788428504733525, cost), (0.2173265421198...\n",
       "4     [(0.3339845981177336, emission), (0.1195350015...\n",
       "                            ...                        \n",
       "85    [(0.27178815904789105, emission), (0.116026264...\n",
       "86    [(0.19664933699706738, oil), (0.15828612847790...\n",
       "87    [(0.21463522876849453, generation), (0.1126790...\n",
       "88    [(0.20971294466981025, energy), (0.19028944827...\n",
       "89    [(0.3337748714366334, case), (0.10881669534850...\n",
       "Name: top_words, Length: 90, dtype: object"
      ]
     },
     "execution_count": 67,
     "metadata": {},
     "output_type": "execute_result"
    }
   ],
   "source": [
    "top_words = questionnaire['top_words']\n",
    "tfidf = questionnaire['tfidf'].to_numpy()\n",
    "emb = questionnaire['embedding'].to_numpy()\n",
    "questionnaire['top_words']"
   ]
  },
  {
   "cell_type": "code",
   "execution_count": 44,
   "metadata": {
    "ExecuteTime": {
     "end_time": "2021-09-20T00:32:12.354396Z",
     "start_time": "2021-09-20T00:32:12.314528Z"
    }
   },
   "outputs": [
    {
     "data": {
      "text/html": [
       "<div>\n",
       "<style scoped>\n",
       "    .dataframe tbody tr th:only-of-type {\n",
       "        vertical-align: middle;\n",
       "    }\n",
       "\n",
       "    .dataframe tbody tr th {\n",
       "        vertical-align: top;\n",
       "    }\n",
       "\n",
       "    .dataframe thead th {\n",
       "        text-align: right;\n",
       "    }\n",
       "</style>\n",
       "<table border=\"1\" class=\"dataframe\">\n",
       "  <thead>\n",
       "    <tr style=\"text-align: right;\">\n",
       "      <th></th>\n",
       "      <th>w0</th>\n",
       "      <th>w1</th>\n",
       "      <th>w2</th>\n",
       "      <th>w3</th>\n",
       "      <th>w4</th>\n",
       "      <th>w5</th>\n",
       "      <th>w6</th>\n",
       "      <th>w7</th>\n",
       "      <th>w8</th>\n",
       "      <th>w9</th>\n",
       "    </tr>\n",
       "  </thead>\n",
       "  <tbody>\n",
       "    <tr>\n",
       "      <th>0</th>\n",
       "      <td>(0.2814950666697298, power)</td>\n",
       "      <td>(0.2414588962377678, system)</td>\n",
       "      <td>(0.11754153696260229, heat)</td>\n",
       "      <td>(0.07225017488814223, generation)</td>\n",
       "      <td>(0.06429135899845657, electricity)</td>\n",
       "      <td>(0.057083478661588666, chp)</td>\n",
       "      <td>(0.05036248076080362, energy)</td>\n",
       "      <td>(0.04161238301685071, electric)</td>\n",
       "      <td>(0.03957228287328841, district_heating)</td>\n",
       "      <td>(0.03433234093076981, electrical)</td>\n",
       "    </tr>\n",
       "    <tr>\n",
       "      <th>1</th>\n",
       "      <td>(0.3121060241322912, fuel)</td>\n",
       "      <td>(0.12164852307639636, biofuel)</td>\n",
       "      <td>(0.11091251351861026, ethanol)</td>\n",
       "      <td>(0.09049465529456782, production)</td>\n",
       "      <td>(0.06694511082862518, transport)</td>\n",
       "      <td>(0.0651519283196546, biodiesel)</td>\n",
       "      <td>(0.06119950199823692, oil)</td>\n",
       "      <td>(0.05941016654816914, transportation)</td>\n",
       "      <td>(0.058594706249226566, gasoline)</td>\n",
       "      <td>(0.053536870034222174, use)</td>\n",
       "    </tr>\n",
       "    <tr>\n",
       "      <th>2</th>\n",
       "      <td>(0.32075350703622585, market)</td>\n",
       "      <td>(0.23533495294416695, price)</td>\n",
       "      <td>(0.1442558401390668, electricity)</td>\n",
       "      <td>(0.05035335299567754, paper)</td>\n",
       "      <td>(0.04654512188923257, competition)</td>\n",
       "      <td>(0.04290463671478347, company)</td>\n",
       "      <td>(0.04163197000920023, investment)</td>\n",
       "      <td>(0.04152596658580716, risk)</td>\n",
       "      <td>(0.038997297095047706, reform)</td>\n",
       "      <td>(0.037697354590791946, industry)</td>\n",
       "    </tr>\n",
       "    <tr>\n",
       "      <th>3</th>\n",
       "      <td>(0.26788428504733525, cost)</td>\n",
       "      <td>(0.2173265421198272, electricity)</td>\n",
       "      <td>(0.12289666271003834, demand)</td>\n",
       "      <td>(0.07647326463298917, utility)</td>\n",
       "      <td>(0.060755808499878515, program)</td>\n",
       "      <td>(0.056724321635786674, load)</td>\n",
       "      <td>(0.051481709620060385, saving)</td>\n",
       "      <td>(0.05050306844514126, rate)</td>\n",
       "      <td>(0.049238558485090726, benefit)</td>\n",
       "      <td>(0.04671577880385226, peak)</td>\n",
       "    </tr>\n",
       "    <tr>\n",
       "      <th>4</th>\n",
       "      <td>(0.3339845981177336, emission)</td>\n",
       "      <td>(0.11953500157574334, carbon)</td>\n",
       "      <td>(0.10197292373381363, reduction)</td>\n",
       "      <td>(0.08585954681115927, cost)</td>\n",
       "      <td>(0.08230985769854464, ghg)</td>\n",
       "      <td>(0.07805651425856423, greenhouse_gas)</td>\n",
       "      <td>(0.0576938411531453, reduce)</td>\n",
       "      <td>(0.050569730670759844, policy)</td>\n",
       "      <td>(0.046504656357419474, result)</td>\n",
       "      <td>(0.04351332962311678, country)</td>\n",
       "    </tr>\n",
       "    <tr>\n",
       "      <th>...</th>\n",
       "      <td>...</td>\n",
       "      <td>...</td>\n",
       "      <td>...</td>\n",
       "      <td>...</td>\n",
       "      <td>...</td>\n",
       "      <td>...</td>\n",
       "      <td>...</td>\n",
       "      <td>...</td>\n",
       "      <td>...</td>\n",
       "      <td>...</td>\n",
       "    </tr>\n",
       "    <tr>\n",
       "      <th>85</th>\n",
       "      <td>(0.27178815904789105, emission)</td>\n",
       "      <td>(0.11602626403676679, sulfur)</td>\n",
       "      <td>(0.11070617678715827, reduce)</td>\n",
       "      <td>(0.08853658520111038, reduction)</td>\n",
       "      <td>(0.08782113065769359, standard)</td>\n",
       "      <td>(0.0718382063967017, fuel)</td>\n",
       "      <td>(0.06803260027726238, new)</td>\n",
       "      <td>(0.06307370924681044, require)</td>\n",
       "      <td>(0.06157375533252776, target)</td>\n",
       "      <td>(0.060603413016077794, dioxide)</td>\n",
       "    </tr>\n",
       "    <tr>\n",
       "      <th>86</th>\n",
       "      <td>(0.19664933699706738, oil)</td>\n",
       "      <td>(0.1582861284779074, barrel)</td>\n",
       "      <td>(0.13648737579401857, day)</td>\n",
       "      <td>(0.1063976166421264, price)</td>\n",
       "      <td>(0.08837474437859645, production)</td>\n",
       "      <td>(0.08649138906860501, case)</td>\n",
       "      <td>(0.07412374070496587, liquid)</td>\n",
       "      <td>(0.05378092230347252, opec)</td>\n",
       "      <td>(0.05351380168027575, increase)</td>\n",
       "      <td>(0.04589494395296468, high)</td>\n",
       "    </tr>\n",
       "    <tr>\n",
       "      <th>87</th>\n",
       "      <td>(0.21463522876849453, generation)</td>\n",
       "      <td>(0.11267904731297683, natural_gas)</td>\n",
       "      <td>(0.10741954317621161, renewable)</td>\n",
       "      <td>(0.10022869513126156, nuclear)</td>\n",
       "      <td>(0.08545292144353839, capacity)</td>\n",
       "      <td>(0.08389187006520164, electricity)</td>\n",
       "      <td>(0.0827937607446054, cost)</td>\n",
       "      <td>(0.07359217088634998, increase)</td>\n",
       "      <td>(0.07295418156057554, coal)</td>\n",
       "      <td>(0.06635258091078446, power)</td>\n",
       "    </tr>\n",
       "    <tr>\n",
       "      <th>88</th>\n",
       "      <td>(0.20971294466981025, energy)</td>\n",
       "      <td>(0.19028944827699656, intensity)</td>\n",
       "      <td>(0.10065447163226374, gdp)</td>\n",
       "      <td>(0.09069847540495993, case)</td>\n",
       "      <td>(0.07673427789625895, economic_growth)</td>\n",
       "      <td>(0.07304306463397414, btu)</td>\n",
       "      <td>(0.07165430045436329, capita)</td>\n",
       "      <td>(0.0659362096968617, high)</td>\n",
       "      <td>(0.06231213525969611, energy_consumption)</td>\n",
       "      <td>(0.05896467207481555, change)</td>\n",
       "    </tr>\n",
       "    <tr>\n",
       "      <th>89</th>\n",
       "      <td>(0.3337748714366334, case)</td>\n",
       "      <td>(0.10881669534850559, reference)</td>\n",
       "      <td>(0.10611526507120156, high)</td>\n",
       "      <td>(0.09420858940929484, world)</td>\n",
       "      <td>(0.08621020423563173, price)</td>\n",
       "      <td>(0.06175875133815721, low)</td>\n",
       "      <td>(0.058434126059214074, oil)</td>\n",
       "      <td>(0.05635602038986178, region)</td>\n",
       "      <td>(0.049935417560506415, liquid)</td>\n",
       "      <td>(0.044390059150993436, consumption)</td>\n",
       "    </tr>\n",
       "  </tbody>\n",
       "</table>\n",
       "<p>90 rows × 10 columns</p>\n",
       "</div>"
      ],
      "text/plain": [
       "                                   w0                                  w1  \\\n",
       "0         (0.2814950666697298, power)        (0.2414588962377678, system)   \n",
       "1          (0.3121060241322912, fuel)      (0.12164852307639636, biofuel)   \n",
       "2       (0.32075350703622585, market)        (0.23533495294416695, price)   \n",
       "3         (0.26788428504733525, cost)   (0.2173265421198272, electricity)   \n",
       "4      (0.3339845981177336, emission)       (0.11953500157574334, carbon)   \n",
       "..                                ...                                 ...   \n",
       "85    (0.27178815904789105, emission)       (0.11602626403676679, sulfur)   \n",
       "86         (0.19664933699706738, oil)        (0.1582861284779074, barrel)   \n",
       "87  (0.21463522876849453, generation)  (0.11267904731297683, natural_gas)   \n",
       "88      (0.20971294466981025, energy)    (0.19028944827699656, intensity)   \n",
       "89         (0.3337748714366334, case)    (0.10881669534850559, reference)   \n",
       "\n",
       "                                   w2                                 w3  \\\n",
       "0         (0.11754153696260229, heat)  (0.07225017488814223, generation)   \n",
       "1      (0.11091251351861026, ethanol)  (0.09049465529456782, production)   \n",
       "2   (0.1442558401390668, electricity)       (0.05035335299567754, paper)   \n",
       "3       (0.12289666271003834, demand)     (0.07647326463298917, utility)   \n",
       "4    (0.10197292373381363, reduction)        (0.08585954681115927, cost)   \n",
       "..                                ...                                ...   \n",
       "85      (0.11070617678715827, reduce)   (0.08853658520111038, reduction)   \n",
       "86         (0.13648737579401857, day)        (0.1063976166421264, price)   \n",
       "87   (0.10741954317621161, renewable)     (0.10022869513126156, nuclear)   \n",
       "88         (0.10065447163226374, gdp)        (0.09069847540495993, case)   \n",
       "89        (0.10611526507120156, high)       (0.09420858940929484, world)   \n",
       "\n",
       "                                        w4  \\\n",
       "0       (0.06429135899845657, electricity)   \n",
       "1         (0.06694511082862518, transport)   \n",
       "2       (0.04654512188923257, competition)   \n",
       "3          (0.060755808499878515, program)   \n",
       "4               (0.08230985769854464, ghg)   \n",
       "..                                     ...   \n",
       "85         (0.08782113065769359, standard)   \n",
       "86       (0.08837474437859645, production)   \n",
       "87         (0.08545292144353839, capacity)   \n",
       "88  (0.07673427789625895, economic_growth)   \n",
       "89            (0.08621020423563173, price)   \n",
       "\n",
       "                                       w5                                 w6  \\\n",
       "0             (0.057083478661588666, chp)      (0.05036248076080362, energy)   \n",
       "1         (0.0651519283196546, biodiesel)         (0.06119950199823692, oil)   \n",
       "2          (0.04290463671478347, company)  (0.04163197000920023, investment)   \n",
       "3            (0.056724321635786674, load)     (0.051481709620060385, saving)   \n",
       "4   (0.07805651425856423, greenhouse_gas)       (0.0576938411531453, reduce)   \n",
       "..                                    ...                                ...   \n",
       "85             (0.0718382063967017, fuel)         (0.06803260027726238, new)   \n",
       "86            (0.08649138906860501, case)      (0.07412374070496587, liquid)   \n",
       "87     (0.08389187006520164, electricity)         (0.0827937607446054, cost)   \n",
       "88             (0.07304306463397414, btu)      (0.07165430045436329, capita)   \n",
       "89             (0.06175875133815721, low)        (0.058434126059214074, oil)   \n",
       "\n",
       "                                       w7  \\\n",
       "0         (0.04161238301685071, electric)   \n",
       "1   (0.05941016654816914, transportation)   \n",
       "2             (0.04152596658580716, risk)   \n",
       "3             (0.05050306844514126, rate)   \n",
       "4          (0.050569730670759844, policy)   \n",
       "..                                    ...   \n",
       "85         (0.06307370924681044, require)   \n",
       "86            (0.05378092230347252, opec)   \n",
       "87        (0.07359217088634998, increase)   \n",
       "88             (0.0659362096968617, high)   \n",
       "89          (0.05635602038986178, region)   \n",
       "\n",
       "                                           w8  \\\n",
       "0     (0.03957228287328841, district_heating)   \n",
       "1            (0.058594706249226566, gasoline)   \n",
       "2              (0.038997297095047706, reform)   \n",
       "3             (0.049238558485090726, benefit)   \n",
       "4              (0.046504656357419474, result)   \n",
       "..                                        ...   \n",
       "85              (0.06157375533252776, target)   \n",
       "86            (0.05351380168027575, increase)   \n",
       "87                (0.07295418156057554, coal)   \n",
       "88  (0.06231213525969611, energy_consumption)   \n",
       "89             (0.049935417560506415, liquid)   \n",
       "\n",
       "                                     w9  \n",
       "0     (0.03433234093076981, electrical)  \n",
       "1           (0.053536870034222174, use)  \n",
       "2      (0.037697354590791946, industry)  \n",
       "3           (0.04671577880385226, peak)  \n",
       "4        (0.04351332962311678, country)  \n",
       "..                                  ...  \n",
       "85      (0.060603413016077794, dioxide)  \n",
       "86          (0.04589494395296468, high)  \n",
       "87         (0.06635258091078446, power)  \n",
       "88        (0.05896467207481555, change)  \n",
       "89  (0.044390059150993436, consumption)  \n",
       "\n",
       "[90 rows x 10 columns]"
      ]
     },
     "execution_count": 44,
     "metadata": {},
     "output_type": "execute_result"
    }
   ],
   "source": [
    "new_df = pd.DataFrame([*top_words], columns=['w0', 'w1', 'w2', 'w3', 'w4', 'w5', 'w6', 'w7', 'w8', 'w9'])\n",
    "new_df"
   ]
  },
  {
   "cell_type": "code",
   "execution_count": 45,
   "metadata": {
    "ExecuteTime": {
     "end_time": "2021-09-20T00:32:13.427669Z",
     "start_time": "2021-09-20T00:32:13.423299Z"
    }
   },
   "outputs": [
    {
     "data": {
      "text/plain": [
       "90"
      ]
     },
     "execution_count": 45,
     "metadata": {},
     "output_type": "execute_result"
    }
   ],
   "source": [
    "len([x[0] for x in tfidf])"
   ]
  },
  {
   "cell_type": "code",
   "execution_count": 46,
   "metadata": {
    "ExecuteTime": {
     "end_time": "2021-09-20T00:32:14.034779Z",
     "start_time": "2021-09-20T00:32:14.025112Z"
    }
   },
   "outputs": [],
   "source": [
    "new_df['t1'] = [x[0] for x in tfidf]\n",
    "new_df['t2'] = [x[1] for x in tfidf]\n",
    "new_df['t3'] = [x[2] for x in tfidf]\n",
    "new_df['t4'] = [x[3] for x in tfidf]\n",
    "new_df['e1'] = [x[0] for x in emb]\n",
    "new_df['e2'] = [x[1] for x in emb]\n",
    "new_df['e3'] = [x[2] for x in emb]\n",
    "new_df['e4'] = [x[3] for x in emb]"
   ]
  },
  {
   "cell_type": "code",
   "execution_count": 56,
   "metadata": {
    "ExecuteTime": {
     "end_time": "2021-09-20T00:35:29.517912Z",
     "start_time": "2021-09-20T00:35:29.508994Z"
    }
   },
   "outputs": [],
   "source": [
    "new_df = new_df.merge(questionnaire.loc[:, ['dataset', 'model']], left_index=True, right_index=True)\n",
    "new_df.to_csv(\"dataset_labels_split.csv\")"
   ]
  },
  {
   "cell_type": "code",
   "execution_count": 9,
   "metadata": {
    "ExecuteTime": {
     "end_time": "2021-09-19T04:06:53.369006Z",
     "start_time": "2021-09-19T04:06:53.355837Z"
    },
    "scrolled": true
   },
   "outputs": [
    {
     "data": {
      "text/html": [
       "<div>\n",
       "<style scoped>\n",
       "    .dataframe tbody tr th:only-of-type {\n",
       "        vertical-align: middle;\n",
       "    }\n",
       "\n",
       "    .dataframe tbody tr th {\n",
       "        vertical-align: top;\n",
       "    }\n",
       "\n",
       "    .dataframe thead th {\n",
       "        text-align: right;\n",
       "    }\n",
       "</style>\n",
       "<table border=\"1\" class=\"dataframe\">\n",
       "  <thead>\n",
       "    <tr style=\"text-align: right;\">\n",
       "      <th></th>\n",
       "      <th>Unnamed: 0</th>\n",
       "      <th>top_words</th>\n",
       "      <th>tfidf</th>\n",
       "      <th>embedding</th>\n",
       "      <th>dataset</th>\n",
       "      <th>model</th>\n",
       "      <th>weights</th>\n",
       "      <th>multi_choice</th>\n",
       "    </tr>\n",
       "    <tr>\n",
       "      <th>human_choice</th>\n",
       "      <th></th>\n",
       "      <th></th>\n",
       "      <th></th>\n",
       "      <th></th>\n",
       "      <th></th>\n",
       "      <th></th>\n",
       "      <th></th>\n",
       "      <th></th>\n",
       "    </tr>\n",
       "  </thead>\n",
       "  <tbody>\n",
       "    <tr>\n",
       "      <th>baseline</th>\n",
       "      <td>2</td>\n",
       "      <td>2</td>\n",
       "      <td>2</td>\n",
       "      <td>2</td>\n",
       "      <td>2</td>\n",
       "      <td>2</td>\n",
       "      <td>2</td>\n",
       "      <td>2</td>\n",
       "    </tr>\n",
       "    <tr>\n",
       "      <th>emb</th>\n",
       "      <td>14</td>\n",
       "      <td>14</td>\n",
       "      <td>14</td>\n",
       "      <td>14</td>\n",
       "      <td>14</td>\n",
       "      <td>14</td>\n",
       "      <td>14</td>\n",
       "      <td>14</td>\n",
       "    </tr>\n",
       "    <tr>\n",
       "      <th>tfidf</th>\n",
       "      <td>14</td>\n",
       "      <td>14</td>\n",
       "      <td>14</td>\n",
       "      <td>14</td>\n",
       "      <td>14</td>\n",
       "      <td>14</td>\n",
       "      <td>14</td>\n",
       "      <td>14</td>\n",
       "    </tr>\n",
       "  </tbody>\n",
       "</table>\n",
       "</div>"
      ],
      "text/plain": [
       "              Unnamed: 0  top_words  tfidf  embedding  dataset  model  \\\n",
       "human_choice                                                            \n",
       "baseline               2          2      2          2        2      2   \n",
       "emb                   14         14     14         14       14     14   \n",
       "tfidf                 14         14     14         14       14     14   \n",
       "\n",
       "              weights  multi_choice  \n",
       "human_choice                         \n",
       "baseline            2             2  \n",
       "emb                14            14  \n",
       "tfidf              14            14  "
      ]
     },
     "execution_count": 9,
     "metadata": {},
     "output_type": "execute_result"
    }
   ],
   "source": [
    "df = pd.read_csv(\"1632024001.0274496_questionnaire.csv\")\n",
    "df.groupby(\"human_choice\").count()"
   ]
  },
  {
   "cell_type": "code",
   "execution_count": null,
   "metadata": {},
   "outputs": [],
   "source": []
  },
  {
   "cell_type": "code",
   "execution_count": 27,
   "metadata": {
    "ExecuteTime": {
     "end_time": "2021-09-18T05:13:00.277952Z",
     "start_time": "2021-09-18T05:13:00.262974Z"
    }
   },
   "outputs": [],
   "source": [
    "same = []\n",
    "tfidf_top1 = []\n",
    "emb_top1 = []\n",
    "for row in questionnaire.itertuples():\n",
    "    tfidf = sorted(row.tfidf, key=lambda x: x[1], reverse=True)[0]\n",
    "    emb = sorted(row.embedding, key=lambda x: x[1], reverse=True)[0]\n",
    "    same.append(tfidf[0]==emb[0])\n",
    "    tfidf_top1.append(tfidf)\n",
    "    emb_top1.append(emb)\n",
    "questionnaire['top1_same'] = same\n",
    "questionnaire['tfidf_top1'] = tfidf_top1\n",
    "questionnaire['emb_top1'] = emb_top1"
   ]
  },
  {
   "cell_type": "code",
   "execution_count": 30,
   "metadata": {
    "ExecuteTime": {
     "end_time": "2021-09-18T05:15:49.777192Z",
     "start_time": "2021-09-18T05:15:49.767053Z"
    }
   },
   "outputs": [],
   "source": [
    "questionnaire.loc[:, ['top1_same', 'tfidf_top1', 'emb_top1', 'dataset']].to_csv(\"top1.csv\", index=False)"
   ]
  },
  {
   "cell_type": "code",
   "execution_count": 31,
   "metadata": {
    "ExecuteTime": {
     "end_time": "2021-09-18T06:02:27.192343Z",
     "start_time": "2021-09-18T06:02:27.169220Z"
    }
   },
   "outputs": [
    {
     "data": {
      "text/html": [
       "<div>\n",
       "<style scoped>\n",
       "    .dataframe tbody tr th:only-of-type {\n",
       "        vertical-align: middle;\n",
       "    }\n",
       "\n",
       "    .dataframe tbody tr th {\n",
       "        vertical-align: top;\n",
       "    }\n",
       "\n",
       "    .dataframe thead th {\n",
       "        text-align: right;\n",
       "    }\n",
       "</style>\n",
       "<table border=\"1\" class=\"dataframe\">\n",
       "  <thead>\n",
       "    <tr style=\"text-align: right;\">\n",
       "      <th></th>\n",
       "      <th>top_words</th>\n",
       "      <th>tfidf</th>\n",
       "      <th>embedding</th>\n",
       "      <th>dataset</th>\n",
       "      <th>model</th>\n",
       "      <th>weights</th>\n",
       "      <th>multi_choice</th>\n",
       "      <th>tfidf_top1</th>\n",
       "      <th>emb_top1</th>\n",
       "    </tr>\n",
       "    <tr>\n",
       "      <th>top1_same</th>\n",
       "      <th></th>\n",
       "      <th></th>\n",
       "      <th></th>\n",
       "      <th></th>\n",
       "      <th></th>\n",
       "      <th></th>\n",
       "      <th></th>\n",
       "      <th></th>\n",
       "      <th></th>\n",
       "    </tr>\n",
       "  </thead>\n",
       "  <tbody>\n",
       "    <tr>\n",
       "      <th>False</th>\n",
       "      <td>67</td>\n",
       "      <td>67</td>\n",
       "      <td>67</td>\n",
       "      <td>67</td>\n",
       "      <td>67</td>\n",
       "      <td>67</td>\n",
       "      <td>67</td>\n",
       "      <td>67</td>\n",
       "      <td>67</td>\n",
       "    </tr>\n",
       "    <tr>\n",
       "      <th>True</th>\n",
       "      <td>23</td>\n",
       "      <td>23</td>\n",
       "      <td>23</td>\n",
       "      <td>23</td>\n",
       "      <td>23</td>\n",
       "      <td>23</td>\n",
       "      <td>23</td>\n",
       "      <td>23</td>\n",
       "      <td>23</td>\n",
       "    </tr>\n",
       "  </tbody>\n",
       "</table>\n",
       "</div>"
      ],
      "text/plain": [
       "           top_words  tfidf  embedding  dataset  model  weights  multi_choice  \\\n",
       "top1_same                                                                       \n",
       "False             67     67         67       67     67       67            67   \n",
       "True              23     23         23       23     23       23            23   \n",
       "\n",
       "           tfidf_top1  emb_top1  \n",
       "top1_same                        \n",
       "False              67        67  \n",
       "True               23        23  "
      ]
     },
     "execution_count": 31,
     "metadata": {},
     "output_type": "execute_result"
    }
   ],
   "source": [
    "questionnaire.groupby([\"top1_same\"]).count()"
   ]
  },
  {
   "cell_type": "code",
   "execution_count": null,
   "metadata": {},
   "outputs": [],
   "source": []
  }
 ],
 "metadata": {
  "kernelspec": {
   "display_name": "Python 3",
   "language": "python",
   "name": "python3"
  },
  "language_info": {
   "codemirror_mode": {
    "name": "ipython",
    "version": 3
   },
   "file_extension": ".py",
   "mimetype": "text/x-python",
   "name": "python",
   "nbconvert_exporter": "python",
   "pygments_lexer": "ipython3",
   "version": "3.8.2"
  },
  "toc": {
   "base_numbering": 1,
   "nav_menu": {},
   "number_sections": true,
   "sideBar": true,
   "skip_h1_title": false,
   "title_cell": "Table of Contents",
   "title_sidebar": "Contents",
   "toc_cell": false,
   "toc_position": {},
   "toc_section_display": true,
   "toc_window_display": false
  },
  "varInspector": {
   "cols": {
    "lenName": 16,
    "lenType": 16,
    "lenVar": 40
   },
   "kernels_config": {
    "python": {
     "delete_cmd_postfix": "",
     "delete_cmd_prefix": "del ",
     "library": "var_list.py",
     "varRefreshCmd": "print(var_dic_list())"
    },
    "r": {
     "delete_cmd_postfix": ") ",
     "delete_cmd_prefix": "rm(",
     "library": "var_list.r",
     "varRefreshCmd": "cat(var_dic_list()) "
    }
   },
   "types_to_exclude": [
    "module",
    "function",
    "builtin_function_or_method",
    "instance",
    "_Feature"
   ],
   "window_display": false
  }
 },
 "nbformat": 4,
 "nbformat_minor": 4
}
